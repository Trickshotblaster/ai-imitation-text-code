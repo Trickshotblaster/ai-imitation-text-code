{
  "nbformat": 4,
  "nbformat_minor": 0,
  "metadata": {
    "colab": {
      "provenance": []
    },
    "kernelspec": {
      "name": "python3",
      "display_name": "Python 3"
    },
    "language_info": {
      "name": "python"
    }
  },
  "cells": [
    {
      "cell_type": "code",
      "source": [
        "API_TOKEN = \"HUGGINGFACE_API_TOKEN_HERE\""
      ],
      "metadata": {
        "id": "S5h64WkJtPc2"
      },
      "execution_count": 35,
      "outputs": []
    },
    {
      "cell_type": "code",
      "source": [
        "from huggingface_hub.inference_api import InferenceApi\n",
        "\n",
        "inference = InferenceApi(repo_id=\"HuggingFaceH4/zephyr-7b-beta\", token=API_TOKEN)\n",
        "prompt = \"user1: hey\\nuser2: wassup\\nuser1: not much, hbu?\\n\"\n",
        "result = inference(inputs=prompt)[0]['generated_text'][len(prompt):]\n",
        "result = result[: result[len(prompt)-1:].find(\"\\n\")]\n",
        "result"
      ],
      "metadata": {
        "colab": {
          "base_uri": "https://localhost:8080/",
          "height": 35
        },
        "id": "NEKvcNbXtFs_",
        "outputId": "86c93d1f-bcb5-49eb-f98f-0e0a892e4d84"
      },
      "execution_count": 33,
      "outputs": [
        {
          "output_type": "execute_result",
          "data": {
            "text/plain": [
              "'user2: same here'"
            ],
            "application/vnd.google.colaboratory.intrinsic+json": {
              "type": "string"
            }
          },
          "metadata": {},
          "execution_count": 33
        }
      ]
    },
    {
      "cell_type": "code",
      "source": [
        "def prompt(history, user=None):\n",
        "  inference = InferenceApi(repo_id=\"HuggingFaceH4/zephyr-7b-beta\", token=API_TOKEN)\n",
        "  prompt = history\n",
        "  result = inference(inputs=prompt)[0]['generated_text'][len(prompt):]\n",
        "  result = result[: result[len(prompt)-1:].find(\"\\n\")]\n",
        "  if user and result.find(user) != None:\n",
        "    return result[len(user)+2:]\n",
        "  else:\n",
        "    return False\n",
        "hist = \"user1: hey\\nuser2: wassup\\nuser1: not much, hbu?\\n\"\n",
        "prompt(hist, user=\"user2\")"
      ],
      "metadata": {
        "colab": {
          "base_uri": "https://localhost:8080/",
          "height": 35
        },
        "id": "KFK33RCYNVTR",
        "outputId": "b2b9f4fa-dfb6-4bec-d082-ab3f000a6c41"
      },
      "execution_count": 34,
      "outputs": [
        {
          "output_type": "execute_result",
          "data": {
            "text/plain": [
              "'same here'"
            ],
            "application/vnd.google.colaboratory.intrinsic+json": {
              "type": "string"
            }
          },
          "metadata": {},
          "execution_count": 34
        }
      ]
    }
  ]
}